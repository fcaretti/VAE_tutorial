{
 "cells": [
  {
   "cell_type": "code",
   "execution_count": 22,
   "metadata": {},
   "outputs": [],
   "source": [
    "import torch\n",
    "import torch.nn as nn\n",
    "import torch.nn.functional as F\n",
    "import torch.optim as optim\n",
    "\n",
    "import numpy as np\n",
    "import matplotlib.pyplot as plt\n",
    "\n",
    "from torchvision import datasets, transforms\n"
   ]
  },
  {
   "cell_type": "markdown",
   "metadata": {},
   "source": [
    "# Welcome\n",
    "### This notebook is for you only if you have never trained a NN, or done it with torch\n",
    "In the rest of the tutorial you will see how Variational Autoencoders compare to traditional Autoencoders. However, both these models are based on Neural Networks, so it's necessary to first have an understanding of these. Here I will assume that you roughly know how they work, but you have never trained one."
   ]
  },
  {
   "cell_type": "markdown",
   "metadata": {},
   "source": [
    "First, you should know that the big goal is to optimize a set of parameters, distributed across different layers of neurons. The way to do this is Stochastic Gradient Descent, but it may be unclear how to optimize, let's say, the neurons in the first layer, from a loss function defined at the end. Or, better, it's easy to say how, but in practice it would be a pain to do it in practice. For this reason, we use Automatic Differentiation (also, it you're italian, you may have heard someone state \"derivare è bovino, integrare è divino)"
   ]
  },
  {
   "cell_type": "code",
   "execution_count": 23,
   "metadata": {},
   "outputs": [
    {
     "name": "stdout",
     "output_type": "stream",
     "text": [
      "tensor([ 4.,  9., 16., 25.], grad_fn=<AddBackward0>)\n",
      "Gradient of the function w.r.t. x:None\n",
      "Gradient of the function w.r.t. x:tensor([ 4.,  6.,  8., 10.])\n"
     ]
    }
   ],
   "source": [
    "#define a function on a tensor\n",
    "#Notice: the function has to be a scalar function for torch to do it automatically!\n",
    "def f(x):\n",
    "    print(x**2 + 2*x + 1)\n",
    "    return torch.sum(x**2 + 2*x + 1)\n",
    "#define a torch tensor\n",
    "x = torch.tensor([1.,2.,3.,4.], requires_grad=True)\n",
    "#apply the function to the tensor\n",
    "y = f(x)\n",
    "#now, the gradient of y with respect to x is:\n",
    "print(f'Gradient of the function w.r.t. x:{x.grad}')\n",
    "#the gradient is None because we haven't computed it yet\n",
    "#to compute the gradient, we need to call the backward() method\n",
    "y.backward()\n",
    "#now, the gradient of y with respect to x is:\n",
    "print(f'Gradient of the function w.r.t. x:{x.grad}')\n",
    "\n"
   ]
  },
  {
   "cell_type": "code",
   "execution_count": 24,
   "metadata": {},
   "outputs": [
    {
     "name": "stdout",
     "output_type": "stream",
     "text": [
      "tensor([0., 1., 4., 9.], grad_fn=<AddBackward0>)\n",
      "Gradient of the function w.r.t. x:tensor([0., 2., 4., 6.])\n"
     ]
    }
   ],
   "source": [
    "#as you can imagine, this can work when we concatenate functions as well\n",
    "#let's define a function that is a composition of two functions\n",
    "def g(x):\n",
    "    return x-2\n",
    "\n",
    "#as before, let's define a tensor\n",
    "x = torch.tensor([1.,2.,3.,4.], requires_grad=True)\n",
    "#now weapply the composition of functions to the tensor\n",
    "y = f(g(x))\n",
    "\n",
    "y.backward()\n",
    "\n",
    "print(f'Gradient of the function w.r.t. x:{x.grad}')"
   ]
  },
  {
   "cell_type": "markdown",
   "metadata": {},
   "source": [
    "### Ok, now we can move to NNs\n",
    "Basically, we can see a NN as a concatenation of function that ultimately enters the Loss function (which is, coincidentally, a scalar one), for which we can then have the gradient w.r.t. all the parameters in the network. I'll be less pedantic from now on, as it gets only a matter of implementation"
   ]
  },
  {
   "cell_type": "code",
   "execution_count": 29,
   "metadata": {},
   "outputs": [],
   "source": [
    "class Net(nn.Module):\n",
    "    def __init__(self, input_dim, hidden_dim, output_dim):\n",
    "        super(Net, self).__init__()\n",
    "        self.fc1 = nn.Linear(input_dim, hidden_dim)\n",
    "        self.fc2 = nn.Linear(hidden_dim, output_dim)\n",
    "    def forward(self, x):\n",
    "        x = self.fc1(x)\n",
    "        x = F.relu(x)\n",
    "        x = self.fc2(x)\n",
    "        return x\n",
    "    \n",
    "#download the MNIST dataset\n",
    "train_dataset = datasets.MNIST(root='./data', train=True, transform=transforms.ToTensor(), download=True)\n",
    "test_dataset = datasets.MNIST(root='./data', train=False, transform=transforms.ToTensor(), download=True)\n",
    "\n",
    "#load only part of the dataset: 10000 training images and 1000 test images\n",
    "train_dataset = torch.utils.data.Subset(train_dataset, range(10000))\n",
    "test_dataset = torch.utils.data.Subset(test_dataset, range(1000))\n",
    "\n",
    "#create a loader, an object that can iterate over the dataset\n",
    "train_loader = torch.utils.data.DataLoader(dataset=train_dataset, batch_size=64, shuffle=True)\n",
    "test_loader = torch.utils.data.DataLoader(dataset=test_dataset, batch_size=len(test_dataset), shuffle=False)"
   ]
  },
  {
   "cell_type": "code",
   "execution_count": 30,
   "metadata": {},
   "outputs": [
    {
     "data": {
      "image/png": "[encoded data removed]",
      "text/plain": [
       "<Figure size 640x480 with 5 Axes>"
      ]
     },
     "metadata": {},
     "output_type": "display_data"
    }
   ],
   "source": [
    "fig, ax = plt.subplots(1, 5)\n",
    "for i in range(5):\n",
    "    ax[i].imshow(train_dataset[i][0][0], cmap='gray')\n",
    "    ax[i].axis('off')"
   ]
  },
  {
   "cell_type": "code",
   "execution_count": 33,
   "metadata": {},
   "outputs": [
    {
     "name": "stdout",
     "output_type": "stream",
     "text": [
      "Epoch 0/10 - Train Loss: 0.4434529694781941, Test Loss: 0.5139255523681641, Train Accuracy: 0.8824  Test Accuracy: 0.86\n",
      "Epoch 1/10 - Train Loss: 0.3511787938654043, Test Loss: 0.42111119627952576, Train Accuracy: 0.9028  Test Accuracy: 0.878\n",
      "Epoch 2/10 - Train Loss: 0.293855026696518, Test Loss: 0.36173945665359497, Train Accuracy: 0.9184  Test Accuracy: 0.887\n",
      "Epoch 3/10 - Train Loss: 0.26481009042187104, Test Loss: 0.33676403760910034, Train Accuracy: 0.9274  Test Accuracy: 0.898\n",
      "Epoch 4/10 - Train Loss: 0.27918673999560106, Test Loss: 0.35755741596221924, Train Accuracy: 0.9213  Test Accuracy: 0.889\n",
      "Epoch 5/10 - Train Loss: 0.24897335346337338, Test Loss: 0.33722174167633057, Train Accuracy: 0.9299  Test Accuracy: 0.904\n"
     ]
    }
   ],
   "source": [
    "#initialize a Net object\n",
    "net = Net(28*28, 100, 10)\n",
    "#initialize an optimizer\n",
    "optimizer = optim.SGD(net.parameters(), lr=0.1)\n",
    "#define the loss function\n",
    "criterion = nn.CrossEntropyLoss(reduction='mean')\n",
    "\n",
    "n_epochs = 10\n",
    "#train on the dataset\n",
    "for epoch in range(n_epochs):\n",
    "    for batch_idx, (data, target) in enumerate(train_loader):\n",
    "        #flatten the images\n",
    "        data = data.view(-1, 28*28)\n",
    "        #set the gradients to zero\n",
    "        optimizer.zero_grad()\n",
    "        #forward pass\n",
    "        output = net(data)\n",
    "        #compute the loss\n",
    "        loss = criterion(output, target)\n",
    "        #backward pass\n",
    "        loss.backward()\n",
    "        #update the weights\n",
    "        optimizer.step()\n",
    "        #print some info\n",
    "        \n",
    "    # Evaluation phase\n",
    "    net.eval()  # Set the network to evaluation mode\n",
    "\n",
    "    # Calculate training loss over the entire training set\n",
    "    train_loss = 0\n",
    "    train_correct = 0\n",
    "    with torch.no_grad():  # No need to track gradients\n",
    "        for train_data, train_target in train_loader:\n",
    "            train_data = train_data.view(-1, 28*28)\n",
    "            train_output = net(train_data)\n",
    "            train_loss += criterion(train_output, train_target).item()\n",
    "            train_correct += torch.sum(torch.argmax(train_output, dim=1) == train_target).item()\n",
    "    train_loss /= len(train_loader)\n",
    "    train_accuracy = train_correct / len(train_dataset)\n",
    "\n",
    "    # Calculate test loss\n",
    "    test_loss = 0\n",
    "    correct = 0\n",
    "    with torch.no_grad():\n",
    "        for test_data, test_target in test_loader:\n",
    "            test_data = test_data.view(-1, 28*28)\n",
    "            test_output = net(test_data)\n",
    "            test_loss += criterion(test_output, test_target).item()\n",
    "            correct += torch.sum(torch.argmax(test_output, dim=1) == test_target).item()\n",
    "    test_loss /= len(test_loader)\n",
    "    test_accuracy = correct / len(test_dataset)\n",
    "\n",
    "    # Print epoch information\n",
    "    print(f'Epoch {epoch}/{n_epochs} - Train Loss: {train_loss}, Test Loss: {test_loss}, Train Accuracy: {train_accuracy}  Test Accuracy: {test_accuracy}')"
   ]
  },
  {
   "cell_type": "code",
   "execution_count": null,
   "metadata": {},
   "outputs": [],
   "source": []
  }
 ],
 "metadata": {
  "kernelspec": {
   "display_name": "bioenv",
   "language": "python",
   "name": "python3"
  },
  "language_info": {
   "codemirror_mode": {
    "name": "ipython",
    "version": 3
   },
   "file_extension": ".py",
   "mimetype": "text/x-python",
   "name": "python",
   "nbconvert_exporter": "python",
   "pygments_lexer": "ipython3",
   "version": "3.11.4"
  }
 },
 "nbformat": 4,
 "nbformat_minor": 2
}
